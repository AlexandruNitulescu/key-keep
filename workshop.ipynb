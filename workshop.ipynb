{
 "cells": [
  {
   "cell_type": "code",
   "execution_count": 56,
   "metadata": {},
   "outputs": [],
   "source": [
    "from sqlalchemy.orm import Session\n",
    "import bcrypt\n",
    "from cryptography.fernet import Fernet\n",
    "import base64\n",
    "from cryptography.hazmat.backends import default_backend\n",
    "from cryptography.hazmat.primitives import hashes\n",
    "from cryptography.hazmat.primitives.kdf.pbkdf2 import PBKDF2HMAC\n",
    "from cryptography.fernet import Fernet\n",
    "import os"
   ]
  },
  {
   "cell_type": "code",
   "execution_count": 57,
   "metadata": {},
   "outputs": [],
   "source": [
    "def generate_secret_key(user_password: str) -> bytes:\n",
    "    password_bytes = user_password.encode()\n",
    "    salt = os.urandom(16)\n",
    "    kdf = PBKDF2HMAC(\n",
    "            algorithm=hashes.SHA256(),\n",
    "            length=32,  # Fernet keys are 32 bytes\n",
    "            salt=salt,\n",
    "            iterations=100000,\n",
    "            backend=default_backend())\n",
    "    key = base64.urlsafe_b64encode(kdf.derive(password_bytes))\n",
    "    \n",
    "    return key"
   ]
  },
  {
   "cell_type": "code",
   "execution_count": 58,
   "metadata": {},
   "outputs": [
    {
     "data": {
      "text/plain": [
       "b'_-ykqGYzjGvtXcf5K0Y33_UQDk1CtSvNrLNGFBso5rU='"
      ]
     },
     "execution_count": 58,
     "metadata": {},
     "output_type": "execute_result"
    }
   ],
   "source": [
    "generate_secret_key('alex')"
   ]
  },
  {
   "cell_type": "code",
   "execution_count": 59,
   "metadata": {},
   "outputs": [
    {
     "name": "stdout",
     "output_type": "stream",
     "text": [
      "b'Pp7RLi3-I96Wd9DTAqR7EbmwOekTApEilx4PZm-E90U='\n"
     ]
    }
   ],
   "source": [
    "alex = generate_secret_key('alex')\n",
    "print(alex)"
   ]
  },
  {
   "cell_type": "code",
   "execution_count": 60,
   "metadata": {},
   "outputs": [
    {
     "name": "stdout",
     "output_type": "stream",
     "text": [
      "b'7aHxYB42ZJjQymabNIcaAUQ4IdWxS8RiYJHroPStM3w='\n"
     ]
    }
   ],
   "source": [
    "alexa = generate_secret_key('alex')\n",
    "print(alexa)"
   ]
  },
  {
   "cell_type": "code",
   "execution_count": 61,
   "metadata": {},
   "outputs": [],
   "source": [
    "key = Fernet.generate_key()"
   ]
  },
  {
   "cell_type": "code",
   "execution_count": 62,
   "metadata": {},
   "outputs": [
    {
     "data": {
      "text/plain": [
       "b'exhJVNXLHvjf727hT0kLMy12e-SNeRj8mhTiwXWySxQ='"
      ]
     },
     "execution_count": 62,
     "metadata": {},
     "output_type": "execute_result"
    }
   ],
   "source": [
    "key"
   ]
  },
  {
   "cell_type": "code",
   "execution_count": 63,
   "metadata": {},
   "outputs": [],
   "source": [
    "def get_password_hash(password: str) -> str:\n",
    "    pwd_bytes = password.encode('utf-8')\n",
    "    salt = bcrypt.gensalt()\n",
    "    hashed_password = bcrypt.hashpw(password=pwd_bytes, salt=salt)\n",
    "    \n",
    "    return hashed_password"
   ]
  },
  {
   "cell_type": "code",
   "execution_count": 64,
   "metadata": {},
   "outputs": [],
   "source": [
    "def get_secret_key_hash(secret_key: str) -> str:\n",
    "    salt = bcrypt.gensalt()\n",
    "    hashed_password = bcrypt.hashpw(password=secret_key, salt=salt)\n",
    "    \n",
    "    return hashed_password"
   ]
  },
  {
   "cell_type": "code",
   "execution_count": 65,
   "metadata": {},
   "outputs": [],
   "source": [
    "hashed_password = get_secret_key_hash(key)"
   ]
  },
  {
   "cell_type": "code",
   "execution_count": 66,
   "metadata": {},
   "outputs": [
    {
     "data": {
      "text/plain": [
       "b'$2b$12$y7MnjmGmx.6Oh7jTps7eX./U3W5.pyzkJx0NAz5BbXh0bV2OZGcRO'"
      ]
     },
     "execution_count": 66,
     "metadata": {},
     "output_type": "execute_result"
    }
   ],
   "source": [
    "hashed_password"
   ]
  },
  {
   "cell_type": "code",
   "execution_count": 67,
   "metadata": {},
   "outputs": [
    {
     "data": {
      "text/plain": [
       "bytes"
      ]
     },
     "execution_count": 67,
     "metadata": {},
     "output_type": "execute_result"
    }
   ],
   "source": [
    "type(hashed_password)"
   ]
  },
  {
   "cell_type": "code",
   "execution_count": 69,
   "metadata": {},
   "outputs": [],
   "source": [
    "def generate_static_key(specific_string: str) -> bytes:\n",
    "    # Convert the specific string to bytes\n",
    "    specific_bytes = specific_string.encode()\n",
    "\n",
    "    # Choose a salt (you can generate it randomly or use a fixed value)\n",
    "    salt = b'MySaltValue'  # Change this to a random value if needed\n",
    "\n",
    "    # Generate the key using PBKDF2HMAC\n",
    "    kdf = PBKDF2HMAC(\n",
    "        algorithm=hashes.SHA256(),\n",
    "        length=32,  # 32 bytes key length\n",
    "        salt=salt,\n",
    "        iterations=100000,  # You can adjust the number of iterations as needed\n",
    "        backend=default_backend()\n",
    "    )\n",
    "\n",
    "    # Derive the key\n",
    "    key = kdf.derive(specific_bytes)\n",
    "\n",
    "    return key"
   ]
  },
  {
   "cell_type": "code",
   "execution_count": 70,
   "metadata": {},
   "outputs": [
    {
     "name": "stdout",
     "output_type": "stream",
     "text": [
      "b'4Hc5uazbfgX48wcqun0MqhoxLQUUiE338N7HwNh7UPk='\n"
     ]
    }
   ],
   "source": [
    "# Example usage\n",
    "specific_string = \"Your specific string here\"\n",
    "static_key = generate_static_key(specific_string)\n",
    "\n",
    "# Encode the key as URL-safe base64\n",
    "url_safe_base64_key = base64.urlsafe_b64encode(static_key)\n",
    "print(url_safe_base64_key)"
   ]
  },
  {
   "cell_type": "code",
   "execution_count": 71,
   "metadata": {},
   "outputs": [
    {
     "name": "stdout",
     "output_type": "stream",
     "text": [
      "b'4Hc5uazbfgX48wcqun0MqhoxLQUUiE338N7HwNh7UPk='\n"
     ]
    }
   ],
   "source": [
    "url_safe_base64_key = base64.urlsafe_b64encode(static_key)\n",
    "print(url_safe_base64_key)"
   ]
  },
  {
   "cell_type": "code",
   "execution_count": 72,
   "metadata": {},
   "outputs": [
    {
     "data": {
      "text/plain": [
       "44"
      ]
     },
     "execution_count": 72,
     "metadata": {},
     "output_type": "execute_result"
    }
   ],
   "source": [
    "len(url_safe_base64_key)"
   ]
  },
  {
   "cell_type": "code",
   "execution_count": 68,
   "metadata": {},
   "outputs": [
    {
     "ename": "ValueError",
     "evalue": "Fernet key must be 32 url-safe base64-encoded bytes.",
     "output_type": "error",
     "traceback": [
      "\u001b[0;31m---------------------------------------------------------------------------\u001b[0m",
      "\u001b[0;31mValueError\u001b[0m                                Traceback (most recent call last)",
      "Cell \u001b[0;32mIn[68], line 1\u001b[0m\n\u001b[0;32m----> 1\u001b[0m key_1 \u001b[38;5;241m=\u001b[39m \u001b[43mFernet\u001b[49m\u001b[43m(\u001b[49m\u001b[38;5;124;43m'\u001b[39;49m\u001b[38;5;124;43mpassword\u001b[39;49m\u001b[38;5;124;43m'\u001b[39;49m\u001b[43m)\u001b[49m\n",
      "File \u001b[0;32m~/Documents/GitHub/key-keep/env/lib/python3.12/site-packages/cryptography/fernet.py:40\u001b[0m, in \u001b[0;36mFernet.__init__\u001b[0;34m(self, key, backend)\u001b[0m\n\u001b[1;32m     36\u001b[0m     \u001b[38;5;28;01mraise\u001b[39;00m \u001b[38;5;167;01mValueError\u001b[39;00m(\n\u001b[1;32m     37\u001b[0m         \u001b[38;5;124m\"\u001b[39m\u001b[38;5;124mFernet key must be 32 url-safe base64-encoded bytes.\u001b[39m\u001b[38;5;124m\"\u001b[39m\n\u001b[1;32m     38\u001b[0m     ) \u001b[38;5;28;01mfrom\u001b[39;00m \u001b[38;5;21;01mexc\u001b[39;00m\n\u001b[1;32m     39\u001b[0m \u001b[38;5;28;01mif\u001b[39;00m \u001b[38;5;28mlen\u001b[39m(key) \u001b[38;5;241m!=\u001b[39m \u001b[38;5;241m32\u001b[39m:\n\u001b[0;32m---> 40\u001b[0m     \u001b[38;5;28;01mraise\u001b[39;00m \u001b[38;5;167;01mValueError\u001b[39;00m(\n\u001b[1;32m     41\u001b[0m         \u001b[38;5;124m\"\u001b[39m\u001b[38;5;124mFernet key must be 32 url-safe base64-encoded bytes.\u001b[39m\u001b[38;5;124m\"\u001b[39m\n\u001b[1;32m     42\u001b[0m     )\n\u001b[1;32m     44\u001b[0m \u001b[38;5;28mself\u001b[39m\u001b[38;5;241m.\u001b[39m_signing_key \u001b[38;5;241m=\u001b[39m key[:\u001b[38;5;241m16\u001b[39m]\n\u001b[1;32m     45\u001b[0m \u001b[38;5;28mself\u001b[39m\u001b[38;5;241m.\u001b[39m_encryption_key \u001b[38;5;241m=\u001b[39m key[\u001b[38;5;241m16\u001b[39m:]\n",
      "\u001b[0;31mValueError\u001b[0m: Fernet key must be 32 url-safe base64-encoded bytes."
     ]
    }
   ],
   "source": [
    "key_1 = Fernet('password')"
   ]
  },
  {
   "cell_type": "code",
   "execution_count": null,
   "metadata": {},
   "outputs": [],
   "source": []
  }
 ],
 "metadata": {
  "kernelspec": {
   "display_name": "env",
   "language": "python",
   "name": "python3"
  },
  "language_info": {
   "codemirror_mode": {
    "name": "ipython",
    "version": 3
   },
   "file_extension": ".py",
   "mimetype": "text/x-python",
   "name": "python",
   "nbconvert_exporter": "python",
   "pygments_lexer": "ipython3",
   "version": "3.12.0"
  }
 },
 "nbformat": 4,
 "nbformat_minor": 2
}
