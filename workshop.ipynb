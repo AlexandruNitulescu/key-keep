{
 "cells": [
  {
   "cell_type": "code",
   "execution_count": 1,
   "metadata": {},
   "outputs": [],
   "source": [
    "import bcrypt\n",
    "\n",
    "def verify_password(plain_password: str, hashed_password: str) -> bool:\n",
    "    password_byte_enc = plain_password.encode('utf-8')\n",
    "    return bcrypt.checkpw(password = password_byte_enc , hashed_password = hashed_password)\n",
    "\n",
    "def get_password_hash(password: str) -> str:\n",
    "    pwd_bytes = password.encode('utf-8')\n",
    "    salt = bcrypt.gensalt()\n",
    "    hashed_password = bcrypt.hashpw(password=pwd_bytes, salt=salt)\n",
    "    return hashed_password"
   ]
  },
  {
   "cell_type": "code",
   "execution_count": 2,
   "metadata": {},
   "outputs": [
    {
     "data": {
      "text/plain": [
       "b'$2b$12$.foqoWpkl/eFGrTPMjcNtOGJ6ZJYnToG7AlU63JlPQq9dFAhMSmR2'"
      ]
     },
     "execution_count": 2,
     "metadata": {},
     "output_type": "execute_result"
    }
   ],
   "source": [
    "get_password_hash(\"hej\")"
   ]
  },
  {
   "cell_type": "code",
   "execution_count": 4,
   "metadata": {},
   "outputs": [
    {
     "data": {
      "text/plain": [
       "b'$2b$12$HObp0vHPGxE7K5A0At4GMumheS5KdZRV95xhbScahnSrL5MA3gBaK$2b$12$vLPdq.OTTYomRUrLLAS3euhjwoQRGVJiFl7LCVXx0/UAqhgmdT/3O'"
      ]
     },
     "execution_count": 4,
     "metadata": {},
     "output_type": "execute_result"
    }
   ],
   "source": [
    "get_password_hash(\"hej\")+get_password_hash(\"alex\")"
   ]
  },
  {
   "cell_type": "code",
   "execution_count": 1,
   "metadata": {},
   "outputs": [],
   "source": [
    "import base64\n",
    "import secrets\n",
    "from cryptography.fernet import Fernet\n",
    "from cryptography.hazmat.primitives import hashes\n",
    "from cryptography.hazmat.primitives.kdf.pbkdf2 import PBKDF2HMAC\n",
    "\n",
    "KDF_ALGORITHM = hashes.SHA256()\n",
    "KDF_LENGTH = 32\n",
    "KDF_ITERATIONS = 120000\n",
    "\n",
    "def encrypt(plaintext: str, password: str) -> (bytes, bytes):\n",
    "    # Derive a symmetric key using the passsword and a fresh random salt.\n",
    "    salt = secrets.token_bytes(16)\n",
    "    kdf = PBKDF2HMAC(\n",
    "        algorithm=KDF_ALGORITHM, length=KDF_LENGTH, salt=salt,\n",
    "        iterations=KDF_ITERATIONS)\n",
    "    key = kdf.derive(password.encode(\"utf-8\"))\n",
    "\n",
    "    # Encrypt the message.\n",
    "    f = Fernet(base64.urlsafe_b64encode(key))\n",
    "    ciphertext = f.encrypt(plaintext.encode(\"utf-8\"))\n",
    "\n",
    "    return ciphertext, salt\n",
    "\n",
    "def decrypt(ciphertext: bytes, password: str, salt: bytes) -> str:\n",
    "    # Derive the symmetric key using the password and provided salt.\n",
    "    kdf = PBKDF2HMAC(\n",
    "        algorithm=KDF_ALGORITHM, length=KDF_LENGTH, salt=salt,\n",
    "        iterations=KDF_ITERATIONS)\n",
    "    key = kdf.derive(password.encode(\"utf-8\"))\n",
    "\n",
    "    # Decrypt the message\n",
    "    f = Fernet(base64.urlsafe_b64encode(key))\n",
    "    plaintext = f.decrypt(ciphertext)\n",
    "\n",
    "    return plaintext.decode(\"utf-8\")\n",
    "\n",
    "def main():\n",
    "    password = \"aStrongPassword\"\n",
    "    message = \"a secret message\"\n",
    "\n",
    "    encrypted, salt = encrypt(message, password)\n",
    "    decrypted = decrypt(encrypted, password, salt)\n",
    "\n",
    "    print(f\"message: {message}\")\n",
    "    print(f\"encrypted: {encrypted}\")\n",
    "    print(f\"decrypted: {decrypted}\")"
   ]
  },
  {
   "cell_type": "code",
   "execution_count": 2,
   "metadata": {},
   "outputs": [
    {
     "data": {
      "text/plain": [
       "(b'gAAAAABl4n0uHt7JfZksd-bPo1i8AraT-8-USQX2ROBpPvlOZMBNwLFPPLUjNkVq1w322eADNUPkdp3TZBqdrFYee0IxhBu3cA==',\n",
       " b'\\xbe\\xd7\\x01\\xbb\\xdc\\\\\\xb6e\\x1b\\t6\\xc0C\\xe2v\\x17')"
      ]
     },
     "execution_count": 2,
     "metadata": {},
     "output_type": "execute_result"
    }
   ],
   "source": [
    "encrypt('mittlössenord', 'aloha')"
   ]
  },
  {
   "cell_type": "code",
   "execution_count": 3,
   "metadata": {},
   "outputs": [
    {
     "name": "stdout",
     "output_type": "stream",
     "text": [
      "message: a secret message\n",
      "encrypted: b'gAAAAABl4n1UJc9_3mJamJgGR-AdPpnRxiDgu6j13rEaCuIsd9vogAukSouyd_UDrVT7lLi-OCMYvG_xvB6vhTb9qSFKukLcCIdUN-7Hwrlxzqs3gp2bzk0='\n",
      "decrypted: a secret message\n"
     ]
    }
   ],
   "source": [
    "password = \"aStrongPassword\"\n",
    "message = \"a secret message\"\n",
    "\n",
    "encrypted, salt = encrypt(message, password)\n",
    "decrypted = decrypt(encrypted, password, salt)\n",
    "\n",
    "print(f\"message: {message}\")\n",
    "print(f\"encrypted: {encrypted}\")\n",
    "print(f\"decrypted: {decrypted}\")"
   ]
  },
  {
   "cell_type": "code",
   "execution_count": null,
   "metadata": {},
   "outputs": [],
   "source": []
  }
 ],
 "metadata": {
  "kernelspec": {
   "display_name": "env",
   "language": "python",
   "name": "python3"
  },
  "language_info": {
   "codemirror_mode": {
    "name": "ipython",
    "version": 3
   },
   "file_extension": ".py",
   "mimetype": "text/x-python",
   "name": "python",
   "nbconvert_exporter": "python",
   "pygments_lexer": "ipython3",
   "version": "3.12.0"
  }
 },
 "nbformat": 4,
 "nbformat_minor": 2
}
